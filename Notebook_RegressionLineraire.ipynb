{
  "cells": [
    {
      "cell_type": "markdown",
      "metadata": {
        "id": "view-in-github",
        "colab_type": "text"
      },
      "source": [
        "<a href=\"https://colab.research.google.com/github/MustaphaMaher/LinearRegression/blob/main/Notebook_RegressionLineraire.ipynb\" target=\"_parent\"><img src=\"https://colab.research.google.com/assets/colab-badge.svg\" alt=\"Open In Colab\"/></a>"
      ]
    },
    {
      "cell_type": "markdown",
      "metadata": {
        "id": "ZrqFlWpY7lJU"
      },
      "source": [
        "# <font color=black>Entrainer, régler et valider un algorithme de regression avec la bonne méthodologie </font>"
      ]
    },
    {
      "cell_type": "markdown",
      "metadata": {
        "id": "UAy40SOu7lJb"
      },
      "source": [
        "Pour ce Notebook, nous allons utiliser le célèbre jeu de données `BOSTON`. Pour plus d'information veuillez consulter le lien suivant : https://archive.ics.uci.edu/ml/machine-learning-databases/housing/"
      ]
    },
    {
      "cell_type": "markdown",
      "metadata": {
        "id": "Zt7TumMh7lJd"
      },
      "source": [
        "# <font color=blue>Entrainement et evaluation d'un modèle de regression </font>"
      ]
    },
    {
      "cell_type": "markdown",
      "metadata": {
        "id": "UVkTpxgE7lJe"
      },
      "source": [
        "Pour commencer on doit  charger les bibliothèques necessaires:\n",
        "* `numpy` : (numerical python)\n",
        "* `sklearn`: Sckit-learn\n",
        "Sklearn vient avec un ensemble de bases de données prêtes à l’emploi pour des raisons académiques(apprendre le machine learning). \n",
        "Ces bases de données sont regroupées dans le package  sklearn.datasets."
      ]
    },
    {
      "cell_type": "code",
      "execution_count": 28,
      "metadata": {
        "id": "V0uXuE0k7lJg"
      },
      "outputs": [],
      "source": [
        "#Chargement des bibliothèques\n",
        "import numpy as np\n",
        "from sklearn import datasets\n",
        "import matplotlib.pyplot as plt\n"
      ]
    },
    {
      "cell_type": "code",
      "execution_count": 3,
      "metadata": {
        "colab": {
          "base_uri": "https://localhost:8080/"
        },
        "id": "Kmhm7LDy7lJn",
        "outputId": "e8e61594-c8a7-47c4-98d7-e3ee33af2eb9"
      },
      "outputs": [
        {
          "output_type": "stream",
          "name": "stderr",
          "text": [
            "/usr/local/lib/python3.7/dist-packages/sklearn/utils/deprecation.py:87: FutureWarning: Function load_boston is deprecated; `load_boston` is deprecated in 1.0 and will be removed in 1.2.\n",
            "\n",
            "    The Boston housing prices dataset has an ethical problem. You can refer to\n",
            "    the documentation of this function for further details.\n",
            "\n",
            "    The scikit-learn maintainers therefore strongly discourage the use of this\n",
            "    dataset unless the purpose of the code is to study and educate about\n",
            "    ethical issues in data science and machine learning.\n",
            "\n",
            "    In this special case, you can fetch the dataset from the original\n",
            "    source::\n",
            "\n",
            "        import pandas as pd\n",
            "        import numpy as np\n",
            "\n",
            "\n",
            "        data_url = \"http://lib.stat.cmu.edu/datasets/boston\"\n",
            "        raw_df = pd.read_csv(data_url, sep=\"\\s+\", skiprows=22, header=None)\n",
            "        data = np.hstack([raw_df.values[::2, :], raw_df.values[1::2, :2]])\n",
            "        target = raw_df.values[1::2, 2]\n",
            "\n",
            "    Alternative datasets include the California housing dataset (i.e.\n",
            "    :func:`~sklearn.datasets.fetch_california_housing`) and the Ames housing\n",
            "    dataset. You can load the datasets as follows::\n",
            "\n",
            "        from sklearn.datasets import fetch_california_housing\n",
            "        housing = fetch_california_housing()\n",
            "\n",
            "    for the California housing dataset and::\n",
            "\n",
            "        from sklearn.datasets import fetch_openml\n",
            "        housing = fetch_openml(name=\"house_prices\", as_frame=True)\n",
            "\n",
            "    for the Ames housing dataset.\n",
            "    \n",
            "  warnings.warn(msg, category=FutureWarning)\n"
          ]
        }
      ],
      "source": [
        "boston=datasets.load_boston()\n",
        "x=boston.data\n",
        "y=boston.target\n",
        "\n"
      ]
    },
    {
      "cell_type": "code",
      "execution_count": 9,
      "metadata": {
        "colab": {
          "base_uri": "https://localhost:8080/"
        },
        "id": "XHEPeNZc7lJq",
        "outputId": "0cf926dd-5473-471a-a199-04f7e82f0475"
      },
      "outputs": [
        {
          "output_type": "stream",
          "name": "stdout",
          "text": [
            "[[6.3200e-03 1.8000e+01 2.3100e+00 ... 1.5300e+01 3.9690e+02 4.9800e+00]\n",
            " [2.7310e-02 0.0000e+00 7.0700e+00 ... 1.7800e+01 3.9690e+02 9.1400e+00]\n",
            " [2.7290e-02 0.0000e+00 7.0700e+00 ... 1.7800e+01 3.9283e+02 4.0300e+00]\n",
            " ...\n",
            " [6.0760e-02 0.0000e+00 1.1930e+01 ... 2.1000e+01 3.9690e+02 5.6400e+00]\n",
            " [1.0959e-01 0.0000e+00 1.1930e+01 ... 2.1000e+01 3.9345e+02 6.4800e+00]\n",
            " [4.7410e-02 0.0000e+00 1.1930e+01 ... 2.1000e+01 3.9690e+02 7.8800e+00]]\n"
          ]
        }
      ],
      "source": [
        "print(x)\n",
        "\n"
      ]
    },
    {
      "cell_type": "code",
      "source": [
        "print(y)"
      ],
      "metadata": {
        "colab": {
          "base_uri": "https://localhost:8080/"
        },
        "id": "cBrENIJs8oIs",
        "outputId": "5d9088d3-0aa2-4e98-9ddb-b1f9c8f6b72f"
      },
      "execution_count": 10,
      "outputs": [
        {
          "output_type": "stream",
          "name": "stdout",
          "text": [
            "[24.  21.6 34.7 33.4 36.2 28.7 22.9 27.1 16.5 18.9 15.  18.9 21.7 20.4\n",
            " 18.2 19.9 23.1 17.5 20.2 18.2 13.6 19.6 15.2 14.5 15.6 13.9 16.6 14.8\n",
            " 18.4 21.  12.7 14.5 13.2 13.1 13.5 18.9 20.  21.  24.7 30.8 34.9 26.6\n",
            " 25.3 24.7 21.2 19.3 20.  16.6 14.4 19.4 19.7 20.5 25.  23.4 18.9 35.4\n",
            " 24.7 31.6 23.3 19.6 18.7 16.  22.2 25.  33.  23.5 19.4 22.  17.4 20.9\n",
            " 24.2 21.7 22.8 23.4 24.1 21.4 20.  20.8 21.2 20.3 28.  23.9 24.8 22.9\n",
            " 23.9 26.6 22.5 22.2 23.6 28.7 22.6 22.  22.9 25.  20.6 28.4 21.4 38.7\n",
            " 43.8 33.2 27.5 26.5 18.6 19.3 20.1 19.5 19.5 20.4 19.8 19.4 21.7 22.8\n",
            " 18.8 18.7 18.5 18.3 21.2 19.2 20.4 19.3 22.  20.3 20.5 17.3 18.8 21.4\n",
            " 15.7 16.2 18.  14.3 19.2 19.6 23.  18.4 15.6 18.1 17.4 17.1 13.3 17.8\n",
            " 14.  14.4 13.4 15.6 11.8 13.8 15.6 14.6 17.8 15.4 21.5 19.6 15.3 19.4\n",
            " 17.  15.6 13.1 41.3 24.3 23.3 27.  50.  50.  50.  22.7 25.  50.  23.8\n",
            " 23.8 22.3 17.4 19.1 23.1 23.6 22.6 29.4 23.2 24.6 29.9 37.2 39.8 36.2\n",
            " 37.9 32.5 26.4 29.6 50.  32.  29.8 34.9 37.  30.5 36.4 31.1 29.1 50.\n",
            " 33.3 30.3 34.6 34.9 32.9 24.1 42.3 48.5 50.  22.6 24.4 22.5 24.4 20.\n",
            " 21.7 19.3 22.4 28.1 23.7 25.  23.3 28.7 21.5 23.  26.7 21.7 27.5 30.1\n",
            " 44.8 50.  37.6 31.6 46.7 31.5 24.3 31.7 41.7 48.3 29.  24.  25.1 31.5\n",
            " 23.7 23.3 22.  20.1 22.2 23.7 17.6 18.5 24.3 20.5 24.5 26.2 24.4 24.8\n",
            " 29.6 42.8 21.9 20.9 44.  50.  36.  30.1 33.8 43.1 48.8 31.  36.5 22.8\n",
            " 30.7 50.  43.5 20.7 21.1 25.2 24.4 35.2 32.4 32.  33.2 33.1 29.1 35.1\n",
            " 45.4 35.4 46.  50.  32.2 22.  20.1 23.2 22.3 24.8 28.5 37.3 27.9 23.9\n",
            " 21.7 28.6 27.1 20.3 22.5 29.  24.8 22.  26.4 33.1 36.1 28.4 33.4 28.2\n",
            " 22.8 20.3 16.1 22.1 19.4 21.6 23.8 16.2 17.8 19.8 23.1 21.  23.8 23.1\n",
            " 20.4 18.5 25.  24.6 23.  22.2 19.3 22.6 19.8 17.1 19.4 22.2 20.7 21.1\n",
            " 19.5 18.5 20.6 19.  18.7 32.7 16.5 23.9 31.2 17.5 17.2 23.1 24.5 26.6\n",
            " 22.9 24.1 18.6 30.1 18.2 20.6 17.8 21.7 22.7 22.6 25.  19.9 20.8 16.8\n",
            " 21.9 27.5 21.9 23.1 50.  50.  50.  50.  50.  13.8 13.8 15.  13.9 13.3\n",
            " 13.1 10.2 10.4 10.9 11.3 12.3  8.8  7.2 10.5  7.4 10.2 11.5 15.1 23.2\n",
            "  9.7 13.8 12.7 13.1 12.5  8.5  5.   6.3  5.6  7.2 12.1  8.3  8.5  5.\n",
            " 11.9 27.9 17.2 27.5 15.  17.2 17.9 16.3  7.   7.2  7.5 10.4  8.8  8.4\n",
            " 16.7 14.2 20.8 13.4 11.7  8.3 10.2 10.9 11.   9.5 14.5 14.1 16.1 14.3\n",
            " 11.7 13.4  9.6  8.7  8.4 12.8 10.5 17.1 18.4 15.4 10.8 11.8 14.9 12.6\n",
            " 14.1 13.  13.4 15.2 16.1 17.8 14.9 14.1 12.7 13.5 14.9 20.  16.4 17.7\n",
            " 19.5 20.2 21.4 19.9 19.  19.1 19.1 20.1 19.9 19.6 23.2 29.8 13.8 13.3\n",
            " 16.7 12.  14.6 21.4 23.  23.7 25.  21.8 20.6 21.2 19.1 20.6 15.2  7.\n",
            "  8.1 13.6 20.1 21.8 24.5 23.1 19.7 18.3 21.2 17.5 16.8 22.4 20.6 23.9\n",
            " 22.  11.9]\n"
          ]
        }
      ]
    },
    {
      "cell_type": "code",
      "execution_count": 4,
      "metadata": {
        "colab": {
          "base_uri": "https://localhost:8080/"
        },
        "id": "SjJPe5WB7lJr",
        "outputId": "68d1f241-d67b-4b4b-e53c-1e1cf83dc4ed"
      },
      "outputs": [
        {
          "output_type": "stream",
          "name": "stdout",
          "text": [
            "<class 'numpy.ndarray'>\n",
            "<class 'numpy.ndarray'>\n"
          ]
        }
      ],
      "source": [
        "# vérifier les types de X et y\n",
        "print(type(x))\n",
        "print(type(y))"
      ]
    },
    {
      "cell_type": "code",
      "execution_count": 5,
      "metadata": {
        "colab": {
          "base_uri": "https://localhost:8080/"
        },
        "id": "OLIB9J1h7lJt",
        "outputId": "ea4cfef1-7fc5-470f-c522-c1f099ab47ff"
      },
      "outputs": [
        {
          "output_type": "stream",
          "name": "stdout",
          "text": [
            "(506, 13)\n",
            "(506,)\n"
          ]
        }
      ],
      "source": [
        "# avoir une idée sur les dimensions de X et y\n",
        "print(x.shape)\n",
        "print(y.shape)"
      ]
    },
    {
      "cell_type": "code",
      "execution_count": 7,
      "metadata": {
        "colab": {
          "base_uri": "https://localhost:8080/",
          "height": 144
        },
        "id": "FMF5VgPp7lJv",
        "outputId": "b044cdc1-9a29-4f57-d880-a1c0f076c5cd"
      },
      "outputs": [
        {
          "output_type": "execute_result",
          "data": {
            "text/plain": [
              "\".. _boston_dataset:\\n\\nBoston house prices dataset\\n---------------------------\\n\\n**Data Set Characteristics:**  \\n\\n    :Number of Instances: 506 \\n\\n    :Number of Attributes: 13 numeric/categorical predictive. Median Value (attribute 14) is usually the target.\\n\\n    :Attribute Information (in order):\\n        - CRIM     per capita crime rate by town\\n        - ZN       proportion of residential land zoned for lots over 25,000 sq.ft.\\n        - INDUS    proportion of non-retail business acres per town\\n        - CHAS     Charles River dummy variable (= 1 if tract bounds river; 0 otherwise)\\n        - NOX      nitric oxides concentration (parts per 10 million)\\n        - RM       average number of rooms per dwelling\\n        - AGE      proportion of owner-occupied units built prior to 1940\\n        - DIS      weighted distances to five Boston employment centres\\n        - RAD      index of accessibility to radial highways\\n        - TAX      full-value property-tax rate per $10,000\\n        - PTRATIO  pupil-teacher ratio by town\\n        - B        1000(Bk - 0.63)^2 where Bk is the proportion of black people by town\\n        - LSTAT    % lower status of the population\\n        - MEDV     Median value of owner-occupied homes in $1000's\\n\\n    :Missing Attribute Values: None\\n\\n    :Creator: Harrison, D. and Rubinfeld, D.L.\\n\\nThis is a copy of UCI ML housing dataset.\\nhttps://archive.ics.uci.edu/ml/machine-learning-databases/housing/\\n\\n\\nThis dataset was taken from the StatLib library which is maintained at Carnegie Mellon University.\\n\\nThe Boston house-price data of Harrison, D. and Rubinfeld, D.L. 'Hedonic\\nprices and the demand for clean air', J. Environ. Economics & Management,\\nvol.5, 81-102, 1978.   Used in Belsley, Kuh & Welsch, 'Regression diagnostics\\n...', Wiley, 1980.   N.B. Various transformations are used in the table on\\npages 244-261 of the latter.\\n\\nThe Boston house-price data has been used in many machine learning papers that address regression\\nproblems.   \\n     \\n.. topic:: References\\n\\n   - Belsley, Kuh & Welsch, 'Regression diagnostics: Identifying Influential Data and Sources of Collinearity', Wiley, 1980. 244-261.\\n   - Quinlan,R. (1993). Combining Instance-Based and Model-Based Learning. In Proceedings on the Tenth International Conference of Machine Learning, 236-243, University of Massachusetts, Amherst. Morgan Kaufmann.\\n\""
            ],
            "application/vnd.google.colaboratory.intrinsic+json": {
              "type": "string"
            }
          },
          "metadata": {},
          "execution_count": 7
        }
      ],
      "source": [
        "boston.DESCR"
      ]
    },
    {
      "cell_type": "code",
      "execution_count": 6,
      "metadata": {
        "colab": {
          "base_uri": "https://localhost:8080/"
        },
        "id": "tSLy86BN7lJx",
        "outputId": "572fe3de-77b3-427a-aec9-9094f5d10fd1"
      },
      "outputs": [
        {
          "output_type": "execute_result",
          "data": {
            "text/plain": [
              "array(['CRIM', 'ZN', 'INDUS', 'CHAS', 'NOX', 'RM', 'AGE', 'DIS', 'RAD',\n",
              "       'TAX', 'PTRATIO', 'B', 'LSTAT'], dtype='<U7')"
            ]
          },
          "metadata": {},
          "execution_count": 6
        }
      ],
      "source": [
        "# afficher les noms des variables (“feature” en anglais) \n",
        "boston.feature_names"
      ]
    },
    {
      "cell_type": "markdown",
      "metadata": {
        "id": "d8iEN5Zu7lJy"
      },
      "source": [
        "# Régression linéaire simple en fonction de RM"
      ]
    },
    {
      "cell_type": "code",
      "execution_count": 19,
      "metadata": {
        "colab": {
          "base_uri": "https://localhost:8080/"
        },
        "id": "OKCWmeB57lJz",
        "outputId": "f61671b4-e08e-456e-a401-627e4aa2df28"
      },
      "outputs": [
        {
          "output_type": "stream",
          "name": "stdout",
          "text": [
            "[[6.575]\n",
            " [6.421]\n",
            " [7.185]\n",
            " [6.998]\n",
            " [7.147]\n",
            " [6.43 ]\n",
            " [6.012]\n",
            " [6.172]\n",
            " [5.631]\n",
            " [6.004]\n",
            " [6.377]\n",
            " [6.009]\n",
            " [5.889]\n",
            " [5.949]\n",
            " [6.096]\n",
            " [5.834]\n",
            " [5.935]\n",
            " [5.99 ]\n",
            " [5.456]\n",
            " [5.727]\n",
            " [5.57 ]\n",
            " [5.965]\n",
            " [6.142]\n",
            " [5.813]\n",
            " [5.924]\n",
            " [5.599]\n",
            " [5.813]\n",
            " [6.047]\n",
            " [6.495]\n",
            " [6.674]\n",
            " [5.713]\n",
            " [6.072]\n",
            " [5.95 ]\n",
            " [5.701]\n",
            " [6.096]\n",
            " [5.933]\n",
            " [5.841]\n",
            " [5.85 ]\n",
            " [5.966]\n",
            " [6.595]\n",
            " [7.024]\n",
            " [6.77 ]\n",
            " [6.169]\n",
            " [6.211]\n",
            " [6.069]\n",
            " [5.682]\n",
            " [5.786]\n",
            " [6.03 ]\n",
            " [5.399]\n",
            " [5.602]\n",
            " [5.963]\n",
            " [6.115]\n",
            " [6.511]\n",
            " [5.998]\n",
            " [5.888]\n",
            " [7.249]\n",
            " [6.383]\n",
            " [6.816]\n",
            " [6.145]\n",
            " [5.927]\n",
            " [5.741]\n",
            " [5.966]\n",
            " [6.456]\n",
            " [6.762]\n",
            " [7.104]\n",
            " [6.29 ]\n",
            " [5.787]\n",
            " [5.878]\n",
            " [5.594]\n",
            " [5.885]\n",
            " [6.417]\n",
            " [5.961]\n",
            " [6.065]\n",
            " [6.245]\n",
            " [6.273]\n",
            " [6.286]\n",
            " [6.279]\n",
            " [6.14 ]\n",
            " [6.232]\n",
            " [5.874]\n",
            " [6.727]\n",
            " [6.619]\n",
            " [6.302]\n",
            " [6.167]\n",
            " [6.389]\n",
            " [6.63 ]\n",
            " [6.015]\n",
            " [6.121]\n",
            " [7.007]\n",
            " [7.079]\n",
            " [6.417]\n",
            " [6.405]\n",
            " [6.442]\n",
            " [6.211]\n",
            " [6.249]\n",
            " [6.625]\n",
            " [6.163]\n",
            " [8.069]\n",
            " [7.82 ]\n",
            " [7.416]\n",
            " [6.727]\n",
            " [6.781]\n",
            " [6.405]\n",
            " [6.137]\n",
            " [6.167]\n",
            " [5.851]\n",
            " [5.836]\n",
            " [6.127]\n",
            " [6.474]\n",
            " [6.229]\n",
            " [6.195]\n",
            " [6.715]\n",
            " [5.913]\n",
            " [6.092]\n",
            " [6.254]\n",
            " [5.928]\n",
            " [6.176]\n",
            " [6.021]\n",
            " [5.872]\n",
            " [5.731]\n",
            " [5.87 ]\n",
            " [6.004]\n",
            " [5.961]\n",
            " [5.856]\n",
            " [5.879]\n",
            " [5.986]\n",
            " [5.613]\n",
            " [5.693]\n",
            " [6.431]\n",
            " [5.637]\n",
            " [6.458]\n",
            " [6.326]\n",
            " [6.372]\n",
            " [5.822]\n",
            " [5.757]\n",
            " [6.335]\n",
            " [5.942]\n",
            " [6.454]\n",
            " [5.857]\n",
            " [6.151]\n",
            " [6.174]\n",
            " [5.019]\n",
            " [5.403]\n",
            " [5.468]\n",
            " [4.903]\n",
            " [6.13 ]\n",
            " [5.628]\n",
            " [4.926]\n",
            " [5.186]\n",
            " [5.597]\n",
            " [6.122]\n",
            " [5.404]\n",
            " [5.012]\n",
            " [5.709]\n",
            " [6.129]\n",
            " [6.152]\n",
            " [5.272]\n",
            " [6.943]\n",
            " [6.066]\n",
            " [6.51 ]\n",
            " [6.25 ]\n",
            " [7.489]\n",
            " [7.802]\n",
            " [8.375]\n",
            " [5.854]\n",
            " [6.101]\n",
            " [7.929]\n",
            " [5.877]\n",
            " [6.319]\n",
            " [6.402]\n",
            " [5.875]\n",
            " [5.88 ]\n",
            " [5.572]\n",
            " [6.416]\n",
            " [5.859]\n",
            " [6.546]\n",
            " [6.02 ]\n",
            " [6.315]\n",
            " [6.86 ]\n",
            " [6.98 ]\n",
            " [7.765]\n",
            " [6.144]\n",
            " [7.155]\n",
            " [6.563]\n",
            " [5.604]\n",
            " [6.153]\n",
            " [7.831]\n",
            " [6.782]\n",
            " [6.556]\n",
            " [7.185]\n",
            " [6.951]\n",
            " [6.739]\n",
            " [7.178]\n",
            " [6.8  ]\n",
            " [6.604]\n",
            " [7.875]\n",
            " [7.287]\n",
            " [7.107]\n",
            " [7.274]\n",
            " [6.975]\n",
            " [7.135]\n",
            " [6.162]\n",
            " [7.61 ]\n",
            " [7.853]\n",
            " [8.034]\n",
            " [5.891]\n",
            " [6.326]\n",
            " [5.783]\n",
            " [6.064]\n",
            " [5.344]\n",
            " [5.96 ]\n",
            " [5.404]\n",
            " [5.807]\n",
            " [6.375]\n",
            " [5.412]\n",
            " [6.182]\n",
            " [5.888]\n",
            " [6.642]\n",
            " [5.951]\n",
            " [6.373]\n",
            " [6.951]\n",
            " [6.164]\n",
            " [6.879]\n",
            " [6.618]\n",
            " [8.266]\n",
            " [8.725]\n",
            " [8.04 ]\n",
            " [7.163]\n",
            " [7.686]\n",
            " [6.552]\n",
            " [5.981]\n",
            " [7.412]\n",
            " [8.337]\n",
            " [8.247]\n",
            " [6.726]\n",
            " [6.086]\n",
            " [6.631]\n",
            " [7.358]\n",
            " [6.481]\n",
            " [6.606]\n",
            " [6.897]\n",
            " [6.095]\n",
            " [6.358]\n",
            " [6.393]\n",
            " [5.593]\n",
            " [5.605]\n",
            " [6.108]\n",
            " [6.226]\n",
            " [6.433]\n",
            " [6.718]\n",
            " [6.487]\n",
            " [6.438]\n",
            " [6.957]\n",
            " [8.259]\n",
            " [6.108]\n",
            " [5.876]\n",
            " [7.454]\n",
            " [8.704]\n",
            " [7.333]\n",
            " [6.842]\n",
            " [7.203]\n",
            " [7.52 ]\n",
            " [8.398]\n",
            " [7.327]\n",
            " [7.206]\n",
            " [5.56 ]\n",
            " [7.014]\n",
            " [8.297]\n",
            " [7.47 ]\n",
            " [5.92 ]\n",
            " [5.856]\n",
            " [6.24 ]\n",
            " [6.538]\n",
            " [7.691]\n",
            " [6.758]\n",
            " [6.854]\n",
            " [7.267]\n",
            " [6.826]\n",
            " [6.482]\n",
            " [6.812]\n",
            " [7.82 ]\n",
            " [6.968]\n",
            " [7.645]\n",
            " [7.923]\n",
            " [7.088]\n",
            " [6.453]\n",
            " [6.23 ]\n",
            " [6.209]\n",
            " [6.315]\n",
            " [6.565]\n",
            " [6.861]\n",
            " [7.148]\n",
            " [6.63 ]\n",
            " [6.127]\n",
            " [6.009]\n",
            " [6.678]\n",
            " [6.549]\n",
            " [5.79 ]\n",
            " [6.345]\n",
            " [7.041]\n",
            " [6.871]\n",
            " [6.59 ]\n",
            " [6.495]\n",
            " [6.982]\n",
            " [7.236]\n",
            " [6.616]\n",
            " [7.42 ]\n",
            " [6.849]\n",
            " [6.635]\n",
            " [5.972]\n",
            " [4.973]\n",
            " [6.122]\n",
            " [6.023]\n",
            " [6.266]\n",
            " [6.567]\n",
            " [5.705]\n",
            " [5.914]\n",
            " [5.782]\n",
            " [6.382]\n",
            " [6.113]\n",
            " [6.426]\n",
            " [6.376]\n",
            " [6.041]\n",
            " [5.708]\n",
            " [6.415]\n",
            " [6.431]\n",
            " [6.312]\n",
            " [6.083]\n",
            " [5.868]\n",
            " [6.333]\n",
            " [6.144]\n",
            " [5.706]\n",
            " [6.031]\n",
            " [6.316]\n",
            " [6.31 ]\n",
            " [6.037]\n",
            " [5.869]\n",
            " [5.895]\n",
            " [6.059]\n",
            " [5.985]\n",
            " [5.968]\n",
            " [7.241]\n",
            " [6.54 ]\n",
            " [6.696]\n",
            " [6.874]\n",
            " [6.014]\n",
            " [5.898]\n",
            " [6.516]\n",
            " [6.635]\n",
            " [6.939]\n",
            " [6.49 ]\n",
            " [6.579]\n",
            " [5.884]\n",
            " [6.728]\n",
            " [5.663]\n",
            " [5.936]\n",
            " [6.212]\n",
            " [6.395]\n",
            " [6.127]\n",
            " [6.112]\n",
            " [6.398]\n",
            " [6.251]\n",
            " [5.362]\n",
            " [5.803]\n",
            " [8.78 ]\n",
            " [3.561]\n",
            " [4.963]\n",
            " [3.863]\n",
            " [4.97 ]\n",
            " [6.683]\n",
            " [7.016]\n",
            " [6.216]\n",
            " [5.875]\n",
            " [4.906]\n",
            " [4.138]\n",
            " [7.313]\n",
            " [6.649]\n",
            " [6.794]\n",
            " [6.38 ]\n",
            " [6.223]\n",
            " [6.968]\n",
            " [6.545]\n",
            " [5.536]\n",
            " [5.52 ]\n",
            " [4.368]\n",
            " [5.277]\n",
            " [4.652]\n",
            " [5.   ]\n",
            " [4.88 ]\n",
            " [5.39 ]\n",
            " [5.713]\n",
            " [6.051]\n",
            " [5.036]\n",
            " [6.193]\n",
            " [5.887]\n",
            " [6.471]\n",
            " [6.405]\n",
            " [5.747]\n",
            " [5.453]\n",
            " [5.852]\n",
            " [5.987]\n",
            " [6.343]\n",
            " [6.404]\n",
            " [5.349]\n",
            " [5.531]\n",
            " [5.683]\n",
            " [4.138]\n",
            " [5.608]\n",
            " [5.617]\n",
            " [6.852]\n",
            " [5.757]\n",
            " [6.657]\n",
            " [4.628]\n",
            " [5.155]\n",
            " [4.519]\n",
            " [6.434]\n",
            " [6.782]\n",
            " [5.304]\n",
            " [5.957]\n",
            " [6.824]\n",
            " [6.411]\n",
            " [6.006]\n",
            " [5.648]\n",
            " [6.103]\n",
            " [5.565]\n",
            " [5.896]\n",
            " [5.837]\n",
            " [6.202]\n",
            " [6.193]\n",
            " [6.38 ]\n",
            " [6.348]\n",
            " [6.833]\n",
            " [6.425]\n",
            " [6.436]\n",
            " [6.208]\n",
            " [6.629]\n",
            " [6.461]\n",
            " [6.152]\n",
            " [5.935]\n",
            " [5.627]\n",
            " [5.818]\n",
            " [6.406]\n",
            " [6.219]\n",
            " [6.485]\n",
            " [5.854]\n",
            " [6.459]\n",
            " [6.341]\n",
            " [6.251]\n",
            " [6.185]\n",
            " [6.417]\n",
            " [6.749]\n",
            " [6.655]\n",
            " [6.297]\n",
            " [7.393]\n",
            " [6.728]\n",
            " [6.525]\n",
            " [5.976]\n",
            " [5.936]\n",
            " [6.301]\n",
            " [6.081]\n",
            " [6.701]\n",
            " [6.376]\n",
            " [6.317]\n",
            " [6.513]\n",
            " [6.209]\n",
            " [5.759]\n",
            " [5.952]\n",
            " [6.003]\n",
            " [5.926]\n",
            " [5.713]\n",
            " [6.167]\n",
            " [6.229]\n",
            " [6.437]\n",
            " [6.98 ]\n",
            " [5.427]\n",
            " [6.162]\n",
            " [6.484]\n",
            " [5.304]\n",
            " [6.185]\n",
            " [6.229]\n",
            " [6.242]\n",
            " [6.75 ]\n",
            " [7.061]\n",
            " [5.762]\n",
            " [5.871]\n",
            " [6.312]\n",
            " [6.114]\n",
            " [5.905]\n",
            " [5.454]\n",
            " [5.414]\n",
            " [5.093]\n",
            " [5.983]\n",
            " [5.983]\n",
            " [5.707]\n",
            " [5.926]\n",
            " [5.67 ]\n",
            " [5.39 ]\n",
            " [5.794]\n",
            " [6.019]\n",
            " [5.569]\n",
            " [6.027]\n",
            " [6.593]\n",
            " [6.12 ]\n",
            " [6.976]\n",
            " [6.794]\n",
            " [6.03 ]]\n",
            "<class 'numpy.ndarray'>\n"
          ]
        }
      ],
      "source": [
        "# Dans un premier temps on va essayer d'estimer le prix d'une maison en utilisant une seule variable soit 'RM'\n",
        "from sklearn.model_selection import train_test_split\n",
        "x1=x[:,5:6]\n",
        "print(x1)\n",
        "print(type(x1))"
      ]
    },
    {
      "cell_type": "markdown",
      "metadata": {
        "id": "kSky0Tys7lJ1"
      },
      "source": [
        "Maintenant il est temps d’entrainer un modèle machine learning. Pour faire simple, nous allons commencer avec l'un des modèles de regression le plus simple, ici en occurence le LinearRegression. "
      ]
    },
    {
      "cell_type": "code",
      "execution_count": 20,
      "metadata": {
        "id": "TN3Okmq57lJ2"
      },
      "outputs": [],
      "source": [
        "# chargement du modèle LinearRegression \n",
        "from sklearn.linear_model import LinearRegression"
      ]
    },
    {
      "cell_type": "markdown",
      "metadata": {
        "id": "djx-lGNo7lJ3"
      },
      "source": [
        "### Créer une instance  `linreg1 ` de la classe  `LinearRegression `"
      ]
    },
    {
      "cell_type": "code",
      "execution_count": 21,
      "metadata": {
        "id": "zGjxmq-B7lJ4"
      },
      "outputs": [],
      "source": [
        "Linreg1=LinearRegression()"
      ]
    },
    {
      "cell_type": "markdown",
      "metadata": {
        "id": "UisCudYL7lJ4"
      },
      "source": [
        "### Entrainer  `linreg1 ` avec les sous-ensembles d'apprentissage puis caluler le test_score de  `linreg1 `"
      ]
    },
    {
      "cell_type": "code",
      "execution_count": 27,
      "metadata": {
        "colab": {
          "base_uri": "https://localhost:8080/"
        },
        "id": "w53hd8VD7lJ5",
        "outputId": "e6143ef1-c360-4660-d991-23714f3b86a7"
      },
      "outputs": [
        {
          "output_type": "stream",
          "name": "stdout",
          "text": [
            "0.4816745218822249\n",
            "0.46896510604875175\n"
          ]
        }
      ],
      "source": [
        "# Entrainer le modèle avec la méthode fit\n",
        "x1_train,x1_test,y_train,y_test=train_test_split(x1,y,train_size=0.2,random_state=3)\n",
        "Linreg1.fit(x1_train,y_train)\n",
        "print(Linreg1.score(x1_test,y_test))"
      ]
    },
    {
      "cell_type": "markdown",
      "metadata": {
        "id": "kNrZGNJh7lJ7"
      },
      "source": [
        "### Aficcher l'intercept de `linreg1 `"
      ]
    },
    {
      "cell_type": "code",
      "execution_count": 29,
      "metadata": {
        "id": "vB2TyAhO7lJ8"
      },
      "outputs": [],
      "source": [
        "#afficher le coefficient  B0\n",
        "b0=Linreg1.intercept_\n"
      ]
    },
    {
      "cell_type": "markdown",
      "metadata": {
        "id": "5JOYuzZH7lJ8"
      },
      "source": [
        "### Afficher les coefficients de `linreg1 `"
      ]
    },
    {
      "cell_type": "code",
      "execution_count": 30,
      "metadata": {
        "id": "bPSoE-7c7lJ9"
      },
      "outputs": [],
      "source": [
        "#afficher le coefficient B1\n",
        "b1=Linreg1.coef_"
      ]
    },
    {
      "cell_type": "markdown",
      "source": [
        "### Tracer les courbes "
      ],
      "metadata": {
        "id": "XKNClW2EFDCg"
      }
    },
    {
      "cell_type": "code",
      "source": [
        "tp=np.linspace(0,9,100)\n",
        "plt.plot(x1,y,'ro')\n",
        "plt.plot(tp,b0+tp*b1)"
      ],
      "metadata": {
        "colab": {
          "base_uri": "https://localhost:8080/",
          "height": 283
        },
        "id": "9_hQoyYRF1yz",
        "outputId": "5683e16f-c0ce-44bf-b470-29f63d7c2a4d"
      },
      "execution_count": 34,
      "outputs": [
        {
          "output_type": "execute_result",
          "data": {
            "text/plain": [
              "[<matplotlib.lines.Line2D at 0x7f254a861150>]"
            ]
          },
          "metadata": {},
          "execution_count": 34
        },
        {
          "output_type": "display_data",
          "data": {
            "text/plain": [
              "<Figure size 432x288 with 1 Axes>"
            ],
            "image/png": "[encoded data removed]"
          },
          "metadata": {
            "needs_background": "light"
          }
        }
      ]
    },
    {
      "cell_type": "markdown",
      "source": [
        "### Predire la valeur à calculer en fonction d'une valeur explicative"
      ],
      "metadata": {
        "id": "6tDRDUyEN2AM"
      }
    },
    {
      "cell_type": "code",
      "source": [
        "x1new=np.array([[5]])\n",
        "Linreg1.predict(x1new)"
      ],
      "metadata": {
        "colab": {
          "base_uri": "https://localhost:8080/"
        },
        "id": "nhq9JUWaODze",
        "outputId": "29ee0cad-d8a6-459b-cf5c-ee8916c3fd6e"
      },
      "execution_count": 45,
      "outputs": [
        {
          "output_type": "execute_result",
          "data": {
            "text/plain": [
              "array([20.90220043])"
            ]
          },
          "metadata": {},
          "execution_count": 45
        }
      ]
    },
    {
      "cell_type": "markdown",
      "source": [
        "#Regression Lineaire simple en fonction de CRIM"
      ],
      "metadata": {
        "id": "gV2zM7QzD806"
      }
    },
    {
      "cell_type": "code",
      "source": [
        "Linreg2=LinearRegression()\n",
        "x2=x[:,1:2]\n",
        "x2_train,x2_test,y_train,y_test=train_test_split(x2,y,train_size=0.2,random_state=3)\n",
        "Linreg2.fit(x2_train,y_train)\n",
        "print(Linreg2.score(x2_test,y_test))\n"
      ],
      "metadata": {
        "colab": {
          "base_uri": "https://localhost:8080/"
        },
        "id": "6xj70UNdEXOb",
        "outputId": "103dc175-3d96-4e65-d540-9be599229244"
      },
      "execution_count": 39,
      "outputs": [
        {
          "output_type": "stream",
          "name": "stdout",
          "text": [
            "0.09548720541661693\n"
          ]
        }
      ]
    },
    {
      "cell_type": "code",
      "source": [
        "a0=Linreg2.intercept_\n",
        "a1=Linreg2.coef_"
      ],
      "metadata": {
        "id": "BUedsOb4HJjZ"
      },
      "execution_count": 40,
      "outputs": []
    },
    {
      "cell_type": "markdown",
      "metadata": {
        "id": "d03Xtveg7lKA"
      },
      "source": [
        "# Régression linéaire multiple"
      ]
    },
    {
      "cell_type": "code",
      "execution_count": 47,
      "metadata": {
        "colab": {
          "base_uri": "https://localhost:8080/"
        },
        "id": "FLkDMycH7lKB",
        "outputId": "023adba9-2de3-4857-8c1e-eb97f6c8fddb"
      },
      "outputs": [
        {
          "output_type": "stream",
          "name": "stdout",
          "text": [
            "0.7063759044921272\n"
          ]
        }
      ],
      "source": [
        "x=boston.data\n",
        "x_train,x_test,y_train,y_test=train_test_split(x,y,train_size=0.2,random_state=3)\n",
        "Linregm=LinearRegression()\n",
        "Linregm.fit(x_train,y_train)\n",
        "print(Linregm.score(x_test,y_test))"
      ]
    },
    {
      "cell_type": "markdown",
      "metadata": {
        "id": "KzIV6uLK7lKB"
      },
      "source": [
        "### Régression linéaire multiple (toutes les variables de Boston)   avec les valeurs par defauts de `LinearRegression`"
      ]
    },
    {
      "cell_type": "code",
      "execution_count": 50,
      "metadata": {
        "colab": {
          "base_uri": "https://localhost:8080/"
        },
        "id": "sQ3KnRRD7lKC",
        "outputId": "72c82e89-0789-46b0-acfa-80040e060a04"
      },
      "outputs": [
        {
          "output_type": "stream",
          "name": "stdout",
          "text": [
            "23.387628371299854\n",
            "[-1.54982785e-01  6.26648259e-02 -8.52811468e-02  4.07820865e+00\n",
            " -1.53791085e+01  4.67095231e+00 -5.44364622e-03 -1.06991914e+00\n",
            "  1.98427388e-01 -5.05189938e-03 -8.29171108e-01  7.76007437e-03\n",
            " -2.98592891e-01]\n"
          ]
        }
      ],
      "source": [
        "a0=Linregm.intercept_\n",
        "print(a0)\n",
        "print(Linregm.coef_)\n",
        "\n"
      ]
    },
    {
      "cell_type": "code",
      "execution_count": null,
      "metadata": {
        "id": "U81cPSih7lKC"
      },
      "outputs": [],
      "source": []
    },
    {
      "cell_type": "markdown",
      "metadata": {
        "id": "yO2ZwxTu7lKD"
      },
      "source": [
        "### Régression linéaire multiple (toutes les variables de Boston)  avec `fit_intercept= False` et `normalize=True`"
      ]
    },
    {
      "cell_type": "code",
      "execution_count": 51,
      "metadata": {
        "id": "B9HMvOwP7lKF"
      },
      "outputs": [],
      "source": [
        "Linregm2=LinearRegression(fit_intercept=False,normalize=True)"
      ]
    },
    {
      "cell_type": "code",
      "execution_count": 62,
      "metadata": {
        "colab": {
          "base_uri": "https://localhost:8080/"
        },
        "id": "l_0FOhPy7lKF",
        "outputId": "88d143dd-0f17-449a-fabc-aa0e4095ae7d"
      },
      "outputs": [
        {
          "output_type": "stream",
          "name": "stdout",
          "text": [
            "0.6777441347504023\n",
            "0.0\n",
            "[-1.61608615e-01  6.22572787e-02 -1.01991767e-01  4.98610555e+00\n",
            " -6.60144958e+00  6.12966281e+00  2.43714338e-03 -7.03423343e-01\n",
            "  1.28283279e-01 -3.92129838e-03 -5.25934540e-01  1.07173047e-02\n",
            " -2.18788559e-01]\n"
          ]
        },
        {
          "output_type": "stream",
          "name": "stderr",
          "text": [
            "/usr/local/lib/python3.7/dist-packages/sklearn/linear_model/_base.py:145: FutureWarning: 'normalize' was deprecated in version 1.0 and will be removed in 1.2.\n",
            "If you wish to scale the data, use Pipeline with a StandardScaler in a preprocessing stage. To reproduce the previous behavior:\n",
            "\n",
            "from sklearn.pipeline import make_pipeline\n",
            "\n",
            "model = make_pipeline(StandardScaler(with_mean=False), LinearRegression())\n",
            "\n",
            "If you wish to pass a sample_weight parameter, you need to pass it as a fit parameter to each step of the pipeline as follows:\n",
            "\n",
            "kwargs = {s[0] + '__sample_weight': sample_weight for s in model.steps}\n",
            "model.fit(X, y, **kwargs)\n",
            "\n",
            "\n",
            "  FutureWarning,\n"
          ]
        }
      ],
      "source": [
        "x_train,x_test,y_train,y_test=train_test_split(x,y,train_size=0.2,random_state=3)\n",
        "Linregm2.fit(x_train,y_train)\n",
        "print(Linregm2.score(x_test,y_test))\n",
        "print(Linregm2.intercept_)\n",
        "print(Linregm2.coef_)"
      ]
    },
    {
      "cell_type": "code",
      "execution_count": 63,
      "metadata": {
        "colab": {
          "base_uri": "https://localhost:8080/"
        },
        "id": "rzq2_nTe7lKG",
        "outputId": "91b0b325-d647-4415-8eee-df8942af5ae3"
      },
      "outputs": [
        {
          "output_type": "execute_result",
          "data": {
            "text/plain": [
              "[('CRIM', -0.16160861539204216),\n",
              " ('ZN', 0.062257278654465065),\n",
              " ('INDUS', -0.10199176667080107),\n",
              " ('CHAS', 4.986105545679265),\n",
              " ('NOX', -6.6014495802273),\n",
              " ('RM', 6.129662810387116),\n",
              " ('AGE', 0.002437143382688486),\n",
              " ('DIS', -0.7034233431661888),\n",
              " ('RAD', 0.12828327898364264),\n",
              " ('TAX', -0.0039212983762170195),\n",
              " ('PTRATIO', -0.5259345399173198),\n",
              " ('B', 0.010717304709425522),\n",
              " ('LSTAT', -0.21878855895233942)]"
            ]
          },
          "metadata": {},
          "execution_count": 63
        }
      ],
      "source": [
        "list(zip(boston.feature_names,Linregm2.coef_))"
      ]
    },
    {
      "cell_type": "code",
      "source": [
        "#plt.plot(x_train[:,1,2],y_train)\n",
        "plt.subplot(3,1,1)\n",
        "plt.plot(x_train[:,2:3],y_train,'ro')\n",
        "plt.legend()\n",
        "plt.subplot(3,1,2)\n",
        "plt.plot(x_train[:,3:4],y_train,'ro')\n",
        "plt.subplot(3,1,3)\n",
        "plt.plot(x_train[:,4:5],y_train,'ro')\n",
        "#x_train[:,1:2]"
      ],
      "metadata": {
        "colab": {
          "base_uri": "https://localhost:8080/",
          "height": 301
        },
        "id": "FycN6--zVskW",
        "outputId": "1f2e4d9b-ffa5-48c0-a39f-bce721dfe921"
      },
      "execution_count": 71,
      "outputs": [
        {
          "output_type": "stream",
          "name": "stderr",
          "text": [
            "WARNING:matplotlib.legend:No handles with labels found to put in legend.\n"
          ]
        },
        {
          "output_type": "execute_result",
          "data": {
            "text/plain": [
              "[<matplotlib.lines.Line2D at 0x7f254a433090>]"
            ]
          },
          "metadata": {},
          "execution_count": 71
        },
        {
          "output_type": "display_data",
          "data": {
            "text/plain": [
              "<Figure size 432x288 with 3 Axes>"
            ],
            "image/png": "[encoded data removed]"
          },
          "metadata": {
            "needs_background": "light"
          }
        }
      ]
    }
  ],
  "metadata": {
    "kernelspec": {
      "display_name": "Python 3.10.8 64-bit (microsoft store)",
      "language": "python",
      "name": "python3"
    },
    "language_info": {
      "codemirror_mode": {
        "name": "ipython",
        "version": 3
      },
      "file_extension": ".py",
      "mimetype": "text/x-python",
      "name": "python",
      "nbconvert_exporter": "python",
      "pygments_lexer": "ipython3",
      "version": "3.10.8"
    },
    "vscode": {
      "interpreter": {
        "hash": "1ef5a99e709a28d9447decb45bfbc0b0c95e1768ac4a5e421cd5ab4be52aa260"
      }
    },
    "colab": {
      "provenance": [],
      "include_colab_link": true
    }
  },
  "nbformat": 4,
  "nbformat_minor": 0
}